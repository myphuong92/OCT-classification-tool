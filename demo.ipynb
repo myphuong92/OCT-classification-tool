{
 "cells": [
  {
   "cell_type": "code",
   "execution_count": null,
   "metadata": {},
   "outputs": [],
   "source": []
  },
  {
   "cell_type": "markdown",
   "metadata": {},
   "source": [
    "# Optical Coherence Tomography (OCT) Scan Classification using Deep Neural Network\n",
    "This repository contains the code for the visualization tool of the final thesis project of the HTTT2020 class at the University of Information Technology, Ho Chi Minh City.\n",
    "\n",
    "## Project Description\n",
    "The project aims to classify Optical Coherence Tomography (OCT) scans using deep neural networks. It provides a user interface for selecting different models and utilizes ensemble models based on Fuzzy Ranking to classify uploaded images.\n",
    "\n",
    "## Models\n",
    "- Inception-V3\n",
    "- ResNet 50\n",
    "- DenseNet 201\n",
    "- Efficientnet-B3\n",
    "\n",
    "## Fuzzy Rank-based Fusion using Ensemble Functions for Deep Learning Models\n",
    "In addition to the individual models mentioned above, we have also utilized ensemble models to enhance the classification performance. These models combine predictions from multiple individual models using ensemble functions. The weights assigned to each model are based on their performance and reliability. By leveraging the strengths of different models, this fusion technique improves the overall accuracy and robustness of the classification system.\n",
    "  \n",
    "## Usage\n",
    "To utilize the project, follow the steps below:\n",
    "\n",
    "1. Select a model from the dropdown list. You can choose to make predictions using a single independent model or use ensemble functions to combine multiple models.\n",
    "2. Upload an image for classification.\n",
    "3. Click on the \"Submit\" button.\n",
    "The classification results will be displayed below.\n",
    "\n",
    "## Installation\n",
    "No installation is required for this project. \n",
    "\n",
    "**Note:** The tool has been deployed and can be accessed at domain.com"
   ]
  }
 ],
 "metadata": {
  "language_info": {
   "name": "python"
  }
 },
 "nbformat": 4,
 "nbformat_minor": 2
}
